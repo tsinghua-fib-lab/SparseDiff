{
 "cells": [
  {
   "cell_type": "code",
   "execution_count": 1,
   "metadata": {},
   "outputs": [
    {
     "name": "stderr",
     "output_type": "stream",
     "text": [
      "100%|██████████| 50/50 [00:12<00:00,  3.92it/s]\n"
     ]
    },
    {
     "name": "stdout",
     "output_type": "stream",
     "text": [
      "0.30087787\n"
     ]
    },
    {
     "name": "stderr",
     "output_type": "stream",
     "text": [
      "100%|██████████| 50/50 [00:04<00:00, 12.39it/s]\n"
     ]
    },
    {
     "name": "stdout",
     "output_type": "stream",
     "text": [
      "0.28862965\n"
     ]
    },
    {
     "name": "stderr",
     "output_type": "stream",
     "text": [
      "100%|██████████| 50/50 [00:04<00:00, 12.46it/s]\n"
     ]
    },
    {
     "name": "stdout",
     "output_type": "stream",
     "text": [
      "0.27476692\n"
     ]
    },
    {
     "name": "stderr",
     "output_type": "stream",
     "text": [
      "100%|██████████| 50/50 [00:04<00:00, 12.42it/s]\n"
     ]
    },
    {
     "name": "stdout",
     "output_type": "stream",
     "text": [
      "0.25902575\n"
     ]
    },
    {
     "name": "stderr",
     "output_type": "stream",
     "text": [
      "100%|██████████| 50/50 [00:04<00:00, 12.48it/s]\n"
     ]
    },
    {
     "name": "stdout",
     "output_type": "stream",
     "text": [
      "0.24171248\n"
     ]
    },
    {
     "name": "stderr",
     "output_type": "stream",
     "text": [
      "100%|██████████| 50/50 [00:04<00:00, 12.48it/s]\n"
     ]
    },
    {
     "name": "stdout",
     "output_type": "stream",
     "text": [
      "0.22328863\n"
     ]
    },
    {
     "name": "stderr",
     "output_type": "stream",
     "text": [
      "100%|██████████| 50/50 [00:04<00:00, 12.46it/s]\n"
     ]
    },
    {
     "name": "stdout",
     "output_type": "stream",
     "text": [
      "0.2040813\n"
     ]
    },
    {
     "name": "stderr",
     "output_type": "stream",
     "text": [
      "100%|██████████| 50/50 [00:04<00:00, 12.46it/s]\n"
     ]
    },
    {
     "name": "stdout",
     "output_type": "stream",
     "text": [
      "0.18425618\n"
     ]
    },
    {
     "name": "stderr",
     "output_type": "stream",
     "text": [
      "100%|██████████| 50/50 [00:04<00:00, 12.45it/s]\n"
     ]
    },
    {
     "name": "stdout",
     "output_type": "stream",
     "text": [
      "0.16387951\n"
     ]
    },
    {
     "name": "stderr",
     "output_type": "stream",
     "text": [
      "100%|██████████| 50/50 [00:04<00:00, 12.45it/s]\n"
     ]
    },
    {
     "name": "stdout",
     "output_type": "stream",
     "text": [
      "0.14295293\n"
     ]
    },
    {
     "name": "stderr",
     "output_type": "stream",
     "text": [
      "100%|██████████| 50/50 [00:03<00:00, 12.53it/s]\n"
     ]
    },
    {
     "name": "stdout",
     "output_type": "stream",
     "text": [
      "0.1214237\n"
     ]
    },
    {
     "name": "stderr",
     "output_type": "stream",
     "text": [
      "100%|██████████| 50/50 [00:04<00:00, 12.47it/s]\n"
     ]
    },
    {
     "name": "stdout",
     "output_type": "stream",
     "text": [
      "0.09922056\n"
     ]
    },
    {
     "name": "stderr",
     "output_type": "stream",
     "text": [
      "100%|██████████| 50/50 [00:04<00:00, 12.47it/s]\n"
     ]
    },
    {
     "name": "stdout",
     "output_type": "stream",
     "text": [
      "0.076278485\n"
     ]
    },
    {
     "name": "stderr",
     "output_type": "stream",
     "text": [
      "100%|██████████| 50/50 [00:04<00:00, 12.44it/s]\n"
     ]
    },
    {
     "name": "stdout",
     "output_type": "stream",
     "text": [
      "0.05257197\n"
     ]
    },
    {
     "name": "stderr",
     "output_type": "stream",
     "text": [
      "100%|██████████| 50/50 [00:04<00:00, 12.49it/s]\n"
     ]
    },
    {
     "name": "stdout",
     "output_type": "stream",
     "text": [
      "0.028146643\n"
     ]
    },
    {
     "name": "stderr",
     "output_type": "stream",
     "text": [
      "100%|██████████| 50/50 [00:04<00:00, 12.47it/s]\n"
     ]
    },
    {
     "name": "stdout",
     "output_type": "stream",
     "text": [
      "0.0031127082\n",
      "nmse: 0.009317385032773018;0.0033525219187140465\n",
      "; ssim: 0.9790511131286621;0.006674688309431076\n",
      ", rmse: 0.05371803790330887;0.015164285898208618\n"
     ]
    }
   ],
   "source": [
    "import torch\n",
    "import gc\n",
    "import numpy as np\n",
    "import os\n",
    "import yaml\n",
    "import torch\n",
    "import matplotlib.pyplot as plt\n",
    "from model import DDPM, UNet_new, VQVAE, GraphModel\n",
    "from ema_pytorch import EMA\n",
    "from utils import Config\n",
    "import numpy as np\n",
    "import random\n",
    "import torch.nn.functional as F\n",
    "from setproctitle import setproctitle\n",
    "from torch_geometric.data import Data\n",
    "import random\n",
    "import argparse\n",
    "from torchmetrics.functional import structural_similarity_index_measure as ssim\n",
    "import warnings\n",
    "warnings.filterwarnings('ignore')\n",
    "\n",
    "def generate_sparse_observations(encoding_indices, data, M=30):\n",
    "    B, _ = encoding_indices.shape\n",
    "    H, W = 128, 128\n",
    "    input_steps = 10\n",
    "\n",
    "    X = torch.zeros((B * M, input_steps))\n",
    "    Coord = torch.full((B * M, 2), -1.0)\n",
    "\n",
    "    for b in range(B):\n",
    "        indices = encoding_indices[b]\n",
    "        batch_data = data[b]\n",
    "        unique_codes = torch.unique(indices)\n",
    "\n",
    "        for code in unique_codes:\n",
    "            mask = indices == code\n",
    "            selected_idx = torch.nonzero(mask).squeeze()\n",
    "            if selected_idx.dim() == 0:\n",
    "                selected_idx = selected_idx.unsqueeze(0)\n",
    "            chosen_idx = selected_idx[torch.randint(0, len(selected_idx), (1,))]\n",
    "            y, x = divmod(chosen_idx.item(), W)\n",
    "            x, y = x / float(H), y / float(W)\n",
    "            index_counter = b * M + code\n",
    "            Coord[index_counter] = torch.tensor([x, y])\n",
    "            X[index_counter] = batch_data[chosen_idx].squeeze()\n",
    "    \n",
    "    return X, Coord\n",
    "\n",
    "def generate_edge_index(encoding_indices, M):\n",
    "    \"\"\"\n",
    "    Generate edge_index and edge_weight for sparse observation points based on codebook adjacency.\n",
    "    \n",
    "    Returns:\n",
    "        edge_index: (2, num_edges * B) torch tensor with codebook indices in [0, codebook_size)\n",
    "        edge_weight: (num_edges * B, 1) torch tensor of normalized weights (may include 0s)\n",
    "    \"\"\"\n",
    "    B, _ = encoding_indices.shape  # (B, 128*128)\n",
    "    H, W = 128, 128\n",
    "    codebook_size = M  # Explicit codebook size\n",
    "    \n",
    "    # Initialize the lists to collect all edges and their corresponding weights\n",
    "    edge_list = []\n",
    "    edge_weights = []\n",
    "\n",
    "    # Iterate over each batch\n",
    "    for b in range(B):\n",
    "        encoding_grid = encoding_indices[b].view(H, W).numpy()\n",
    "\n",
    "        cooccur = np.zeros((codebook_size, codebook_size), dtype=np.float32)\n",
    "        neighbor_offsets = [(-1, -1), (-1, 0), (-1, 1),\n",
    "                            (0, -1),          (0, 1),\n",
    "                            (1, -1),  (1, 0), (1, 1)]\n",
    "        # Count co-occurrence for the current batch\n",
    "        for i in range(H):\n",
    "            for j in range(W):\n",
    "                current_code = encoding_grid[i, j]\n",
    "                for dx, dy in neighbor_offsets:\n",
    "                    ni, nj = i + dx, j + dy\n",
    "                    if 0 <= ni < H and 0 <= nj < W:\n",
    "                        neighbor_code = encoding_grid[ni, nj]\n",
    "                        if neighbor_code != current_code:\n",
    "                            cooccur[current_code, neighbor_code] += 1\n",
    "\n",
    "        np.fill_diagonal(cooccur, 0)\n",
    "        # Normalize co-occurrence matrix\n",
    "        non_zero_counts = (cooccur > 0).sum(axis=1, keepdims=True)\n",
    "        norm_cooccur = cooccur / (non_zero_counts + 1e-8)\n",
    "        # Append edges and weights for the current batch\n",
    "        for i in range(codebook_size):\n",
    "            related_scores = norm_cooccur[i]\n",
    "            for j in range(codebook_size):\n",
    "                if i != j: \n",
    "                    edge_list.append((i, j))\n",
    "                    edge_weights.append(related_scores[j])  \n",
    "    # Convert lists to tensors\n",
    "    edge_index = torch.tensor(edge_list, dtype=torch.long).T  # (2, num_edges * B)\n",
    "    edge_weight = torch.tensor(edge_weights, dtype=torch.float32)  # (num_edges * B,)\n",
    "\n",
    "    # Normalize edge_weight to [0, 1] if not all 0\n",
    "    if edge_weight.max() > edge_weight.min():\n",
    "        edge_weight = (edge_weight - edge_weight.min()) / (edge_weight.max() - edge_weight.min())\n",
    "    edge_weight = edge_weight.unsqueeze(-1)  # (num_edges * B, 1)\n",
    "\n",
    "    return edge_index, edge_weight\n",
    "\n",
    "def normalize_to_neg_one_to_one(img):\n",
    "    # [0.0, 1.0] -> [-1.0, 1.0]\n",
    "    return img * 2 - 1\n",
    "def unnormalize_to_zero_to_one(t):\n",
    "    # [-1.0, 1.0] -> [0.0, 1.0]\n",
    "    return (t + 1) * 0.5\n",
    "\n",
    "\n",
    "\n",
    "def reconstruct_from_sparse_batch(Sparse, encoding_indices, sample_step, n ,grid_size=128,  strategy='first'):   \n",
    "    B_1, C, total_M = Sparse.shape\n",
    "    H = W = grid_size\n",
    "    B = int(B_1 / sample_step)\n",
    "    Sparse_grouped = Sparse.view(B*sample_step, C, -1, n)\n",
    "\n",
    "    if strategy == 'first':\n",
    "        Sparse_selected = Sparse_grouped[:, :, :, 0]  # shape: (B*sample_step, C, M)\n",
    "    elif strategy == 'mean':\n",
    "        Sparse_selected = Sparse_grouped.mean(dim=3)  # shape: (B*sample_step, C, M)\n",
    "    else:\n",
    "        raise ValueError(f\"Unsupported strategy: {strategy}\")\n",
    "\n",
    "    # print(encoding_indices.shape)\n",
    "    encoding_indices = encoding_indices.unsqueeze(1).expand(-1, sample_step, -1, -1).reshape(B*sample_step, C, -1)\n",
    "    # print(\"1\", encoding_indices.shape)\n",
    "    # print(Sparse_selected.shape)\n",
    "    reconstructed_flat = torch.gather(Sparse_selected, dim=2, index=encoding_indices)  # shape: (B*sample_step, C, H*W)\n",
    "\n",
    "    reconstructed = reconstructed_flat.view(B_1, C, H, W)\n",
    "    return reconstructed\n",
    "\n",
    "system = 'sh'\n",
    "yaml_path = f'config/{system}.yaml'\n",
    "\n",
    "with open(yaml_path, 'r') as f:\n",
    "    base_opt = yaml.full_load(f) \n",
    "\n",
    "opt = Config(base_opt)\n",
    "device = torch.device(f\"cuda:5\")\n",
    "\n",
    "opt.save_dir += f'/{opt.dataset}/'\n",
    "\n",
    "diff = DDPM(\n",
    "    nn_model=UNet_new(**opt.network),\n",
    "    **opt.diffusion,\n",
    "    device=device,\n",
    ")\n",
    "diff.to(device)\n",
    "\n",
    "load_epoch = 999\n",
    "checkpoint_path = os.path.join(opt.save_dir, f\"model_{load_epoch}.pth\")\n",
    "checkpoint = torch.load(checkpoint_path, map_location='cpu')\n",
    "diff.load_state_dict(checkpoint['MODEL'], strict=False)\n",
    "\n",
    "ema = EMA(diff, beta=opt.ema, update_after_step=0, update_every=1)\n",
    "ema.to(device)\n",
    "ema.load_state_dict(checkpoint['EMA'], strict=False)\n",
    "ema_model = ema.ema_model\n",
    "ema_model.eval()\n",
    "\n",
    "size = (opt.data[\"channel\"], opt.data['img_resolution'], opt.data['img_resolution']) \n",
    "\n",
    "T= opt.vqvae[\"T\"]\n",
    "hidden_dim = opt.vqvae[\"hidden_dim\"]   \n",
    "embedding_dim = opt.vqvae[\"embedding_dim\"]  \n",
    "num_embeddings =  opt.vqvae[\"num_embeddings\"]\n",
    "vqvae = VQVAE(input_dim=T, hidden_dim=hidden_dim, embedding_dim=embedding_dim, num_embeddings=num_embeddings)\n",
    "vqvae.load_state_dict(torch.load(f\"./log/{system}/vqvae_T_{T}_ae_pretrain_{num_embeddings}_{hidden_dim}_{embedding_dim}.pth\"))\n",
    "vqvae.eval()\n",
    "\n",
    "\n",
    "latent_feat = opt.grand[\"latent_feat\"]\n",
    "input_steps = opt.grand[\"input_steps\"]\n",
    "\n",
    "predictor = GraphModel(input_steps=input_steps, d_in = latent_feat, codebook_size=num_embeddings).to(device)\n",
    "predictor.load_state_dict(torch.load(f\"./log/{system}/grand_input_{T}_{latent_feat}_1.pth\"))\n",
    "\n",
    "# ===================\n",
    "# load data\n",
    "# ===================\n",
    "x_test = np.load(f'./data/{system}/uv_test.npy')  # Shape: (num_tra, steps, channels, 128, 128)\n",
    "x_test = torch.tensor(x_test, dtype=torch.float32)  \n",
    "\n",
    "x_train = np.load(f'./data/{system}/uv.npy')  # Shape: (num_tra, steps, channels, 128, 128)\n",
    "x_train = torch.tensor(x_train, dtype=torch.float32)  \n",
    "\n",
    "# Normalize data (Min-Max Scaling)\n",
    "xmin = x_train.amin(dim=(0, 1, 3, 4), keepdim=True)  # Min over num_tra, steps, spatial dimensions\n",
    "xmax = x_train.amax(dim=(0, 1, 3, 4), keepdim=True)  # Max over num_tra, steps, spatial dimensions\n",
    "del x_train\n",
    "test_data = (x_test - xmin) / (xmax - xmin)  # Normalized data\n",
    "\n",
    "batch_size = 1   \n",
    "sample_step = opt.sample[\"sample_step\"]\n",
    "channel = opt.data[\"channel\"]\n",
    "test_tra = 1\n",
    "pred_steps = 80\n",
    "start_step = 2*T   # >= T\n",
    "t_input = torch.tensor([1.0])\n",
    "change_step = opt.sample[\"change_step\"]\n",
    "\n",
    "truth = test_data[:test_tra , start_step:start_step + pred_steps, :,:,:]   # (batch_size, T, 2, 128, 128)\n",
    "predictions = torch.zeros_like(truth)\n",
    "full_reconstructions = torch.zeros_like(truth)\n",
    "\n",
    "with torch.no_grad():\n",
    "    for i in range(0, test_tra, batch_size):    \n",
    "        for code_step in range(start_step, start_step + pred_steps, change_step):  \n",
    "            if(code_step == start_step):\n",
    "                for_codebook_data = test_data[i : i + batch_size, code_step-T:code_step, :,:,:]   # (B, T, 2, 128, 128)\n",
    "            \n",
    "            elif(code_step-start_step-T<0): \n",
    "               \n",
    "                for_codebook_data = torch.cat([test_data[i : i + batch_size, - T + code_step:start_step, :,:,:], predictions[i:i+batch_size, :code_step - start_step,:,:,:]],dim = 1)\n",
    "            else:\n",
    "                for_codebook_data = predictions[i:i+batch_size, code_step - start_step - T: code_step - start_step,:,:,:]\n",
    "\n",
    "            single_tra_data_1 = for_codebook_data[:, :,0,:,:].reshape(batch_size, T, 128*128).permute(0,2,1)   # (B, 128*128, T)\n",
    "            _, _, encoding_indices_1 = vqvae(single_tra_data_1)   # (B, 128*128)\n",
    "        \n",
    "            encoding_indices = encoding_indices_1.unsqueeze(1)\n",
    "\n",
    "            X_1, Coord_1 = generate_sparse_observations(encoding_indices_1, single_tra_data_1, num_embeddings)\n",
    "            edge_index_1, edge_weight_1 = generate_edge_index(encoding_indices_1, num_embeddings)\n",
    "        \n",
    "            \n",
    "            initial_data_1 = Data(    \n",
    "                    x = X_1,   # (batch_size * M, T)\n",
    "                    edge_index = edge_index_1,  # (2, E*batch_size)\n",
    "                    edge_weight=edge_weight_1,  # (E*batch_size, 1)\n",
    "                    Coord = Coord_1   #   (M*batch_size, 2)\n",
    "                )\n",
    "        \n",
    "            \n",
    "            initial_data_1 = initial_data_1.to(device)\n",
    "        \n",
    "            \n",
    "            \n",
    "        \n",
    "            sparse_predictions = []\n",
    "            for step in range(0, change_step, sample_step):\n",
    "                \n",
    "                \n",
    "                if(step != 0):   \n",
    "                    ddpm_samples = ddpm_samples.reshape(batch_size*sample_step, channel, -1).reshape(batch_size, sample_step, channel, -1).detach().cpu()\n",
    "                    ddpm_result_1 = ddpm_samples[:, :, 0,:].permute(0,2,1)\n",
    "                    update_single_tra_data_1 = single_tra_data_1[:, :, sample_step:]\n",
    "                    print(update_single_tra_data_1.shape)\n",
    "                    update_single_tra_data_1 = torch.cat((update_single_tra_data_1, ddpm_result_1), dim=2)\n",
    "                    \n",
    "                \n",
    "                    \n",
    "                    X_1, Coord_1 = generate_sparse_observations(encoding_indices_1, update_single_tra_data_1)  # (B, 128*128, T)\n",
    "\n",
    "                    initial_data_1.x = X_1.to(device)\n",
    "\n",
    "                    initial_data_1.Coord = Coord_1.to(device)\n",
    "        \n",
    "                \n",
    "                \n",
    "                for t in range(sample_step):\n",
    "                    # print(initial_data_1.x)\n",
    "                    pred_1 = predictor(initial_data_1, t_input) \n",
    "                    sparse_predictions.append(pred_1.detach().cpu())\n",
    "        \n",
    "\n",
    "                    initial_data_1.x = initial_data_1.x[:, 1:]    \n",
    "                    initial_data_1.x = torch.cat((initial_data_1.x, pred_1), dim=1)\n",
    "                    \n",
    "                sparse_1 = initial_data_1.x[:,-sample_step:].detach().cpu().reshape(batch_size, -1, sample_step).permute(0,2,1).reshape(batch_size*sample_step, -1)\n",
    "            \n",
    "                Sparse = sparse_1.unsqueeze(1)   # (B*sample_step, C, M)\n",
    "                # print(Sparse.shape)\n",
    "                reconstructed = reconstruct_from_sparse_batch(Sparse = Sparse, encoding_indices=encoding_indices, sample_step = sample_step, n = 1)   #(B*sample_step, C, H, w)\n",
    "                full_reconstructions[i:i+batch_size, code_step - start_step + step:code_step - start_step + step + sample_step] = reconstructed.reshape(batch_size, sample_step, channel, 128, 128).detach().cpu()\n",
    "                \n",
    "                with torch.enable_grad():\n",
    "                    # ddpm_samples = ema_model.ddim_guided_sample_full_sh(n_sample = batch_size*sample_step, size = size, steps = opt.sample[\"ddim_step\"], eta = opt.sample[\"eta\"], zeta_obs = opt.sample[\"zeta_obs\"], zeta_pde = opt.sample[\"zeta_pde\"], ratio = opt.sample[\"ratio\"], reconstructed = reconstructed, data_opt = opt.data, notqdm=False)  # shape: (B*sample_step, C, H, W)\n",
    "                    ddpm_samples = ema_model.ddim_sample_from_reconstructed_sh(n_sample = batch_size*sample_step, size = size, steps = 50, eta = opt.sample[\"eta\"], zeta_obs = opt.sample[\"zeta_obs\"], zeta_pde = opt.sample[\"zeta_pde\"], ratio = opt.sample[\"ratio\"], reconstructed = reconstructed, data_opt = opt.data, notqdm=False)  # shape: (B*sample_step, C, H, W)\n",
    "                    predictions[i:i+batch_size, code_step - start_step + step:code_step - start_step + step + sample_step] = ddpm_samples.reshape(batch_size, sample_step, channel, 128, 128).detach().cpu()\n",
    "            print(F.mse_loss(predictions, truth, reduction='none').mean().numpy())\n",
    "                \n",
    "    def compute_nmse(predictions, targets):\n",
    "        nmse = torch.mean((predictions - targets) ** 2, dim=(0, 2, 3, 4)) / torch.mean((targets) ** 2, dim=(0, 2, 3, 4))\n",
    "        return nmse  \n",
    "\n",
    "    def compute_rmse(predictions, targets):\n",
    "        rmse = torch.sqrt(torch.mean((predictions - targets) ** 2, dim=(0, 2, 3, 4)))\n",
    "        return rmse  \n",
    "\n",
    "    def compute_ssim(predictions, targets):\n",
    "        ssim_values = []\n",
    "        for t in range(predictions.shape[1]):  \n",
    "            ssim_value = ssim(predictions[:,t], targets[:,t], data_range=1.0).item()\n",
    "            ssim_values.append(ssim_value)\n",
    "        return torch.tensor(ssim_values)\n",
    "\n",
    "    nmse = compute_nmse(predictions, truth)    # (pred_steps, )\n",
    "    my_ssim = compute_ssim(predictions, truth)\n",
    "    rmse = compute_rmse(predictions, truth)\n",
    "    print(f\"nmse: {nmse.mean()};{nmse.std()}\\n; ssim: {my_ssim.mean()};{my_ssim.std()}\\n, rmse: {rmse.mean()};{rmse.std()}\")\n",
    "    \n"
   ]
  }
 ],
 "metadata": {
  "kernelspec": {
   "display_name": "lmenv",
   "language": "python",
   "name": "python3"
  },
  "language_info": {
   "codemirror_mode": {
    "name": "ipython",
    "version": 3
   },
   "file_extension": ".py",
   "mimetype": "text/x-python",
   "name": "python",
   "nbconvert_exporter": "python",
   "pygments_lexer": "ipython3",
   "version": "3.12.9"
  }
 },
 "nbformat": 4,
 "nbformat_minor": 2
}
